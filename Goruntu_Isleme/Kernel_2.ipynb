{
 "cells": [
  {
   "cell_type": "markdown",
   "id": "fe3f73b8",
   "metadata": {},
   "source": [
    "# Görüntü İşleme Ödevi Kernel 2\n",
    "\n",
    "* 200601005 Turgutefe Akşit"
   ]
  },
  {
   "cell_type": "code",
   "execution_count": 1,
   "id": "e9ddcd54",
   "metadata": {},
   "outputs": [],
   "source": [
    "import cv2\n",
    "import numpy as np"
   ]
  },
  {
   "cell_type": "markdown",
   "id": "33b3fc74",
   "metadata": {},
   "source": [
    "## Tom ve Jerry'i birleştirme"
   ]
  },
  {
   "cell_type": "code",
   "execution_count": 2,
   "id": "c433c853",
   "metadata": {},
   "outputs": [
    {
     "data": {
      "text/plain": [
       "-1"
      ]
     },
     "execution_count": 2,
     "metadata": {},
     "output_type": "execute_result"
    }
   ],
   "source": [
    "backGround = cv2.imread(\"./TomAndJerryArkaPlan.png\",cv2.IMREAD_UNCHANGED)\n",
    "tom = cv2.imread(\"./Tom.png\",0)\n",
    "tomOrj = cv2.imread(\"./Tom.png\")\n",
    "jerry = cv2.imread(\"./Jerry.png\")\n",
    "\n",
    "\n",
    "tom = tom.astype('bool')\n",
    "jerry[tom] =tomOrj[tom]\n",
    "cv2.imshow(\"FinalImage\",jerry)\n",
    "cv2.waitKey(0)"
   ]
  },
  {
   "cell_type": "markdown",
   "id": "a9e4ca47",
   "metadata": {},
   "source": [
    "### Birleştirilen resme threshold işlemi uygulama"
   ]
  },
  {
   "cell_type": "code",
   "execution_count": 3,
   "id": "ed065830",
   "metadata": {},
   "outputs": [],
   "source": [
    "merged_image = jerry"
   ]
  },
  {
   "cell_type": "code",
   "execution_count": 4,
   "id": "564f9072",
   "metadata": {},
   "outputs": [],
   "source": [
    "gray_merged_image = cv2.cvtColor(merged_image, cv2.COLOR_BGR2GRAY)"
   ]
  },
  {
   "cell_type": "code",
   "execution_count": 5,
   "id": "944fafbe",
   "metadata": {},
   "outputs": [],
   "source": [
    "threshold_value, thresholded_image = cv2.threshold(gray_merged_image, 20, 255, cv2.THRESH_BINARY)"
   ]
  },
  {
   "cell_type": "code",
   "execution_count": 6,
   "id": "ae65341c",
   "metadata": {},
   "outputs": [
    {
     "data": {
      "text/plain": [
       "-1"
      ]
     },
     "execution_count": 6,
     "metadata": {},
     "output_type": "execute_result"
    }
   ],
   "source": [
    "cv2.imshow('Thresholded Image', thresholded_image)\n",
    "cv2.waitKey(0)"
   ]
  },
  {
   "cell_type": "markdown",
   "id": "0ac262d2",
   "metadata": {},
   "source": [
    "### Arka Plan Ekleme"
   ]
  },
  {
   "cell_type": "code",
   "execution_count": 7,
   "id": "7376e80b",
   "metadata": {},
   "outputs": [
    {
     "name": "stdout",
     "output_type": "stream",
     "text": [
      "(193, 352, 3)\n"
     ]
    }
   ],
   "source": [
    "print(backGround.shape)"
   ]
  },
  {
   "cell_type": "code",
   "execution_count": 8,
   "id": "33d4704e",
   "metadata": {},
   "outputs": [
    {
     "name": "stdout",
     "output_type": "stream",
     "text": [
      "(233, 424)\n"
     ]
    }
   ],
   "source": [
    "print(thresholded_image.shape)"
   ]
  },
  {
   "cell_type": "code",
   "execution_count": 9,
   "id": "72712ceb",
   "metadata": {},
   "outputs": [],
   "source": [
    "resized_background = cv2.resize(backGround, (424, 233))"
   ]
  },
  {
   "cell_type": "code",
   "execution_count": 10,
   "id": "35b2a0af",
   "metadata": {},
   "outputs": [],
   "source": [
    "gray_img = cv2.cvtColor(merged_image, cv2.COLOR_BGR2GRAY)\n",
    "#ret, thresh = cv2.threshold(gray_img, 10, 255, cv2.THRESH_BINARY_INV)"
   ]
  },
  {
   "cell_type": "code",
   "execution_count": 11,
   "id": "f88447ca",
   "metadata": {},
   "outputs": [],
   "source": [
    "mask = cv2.bitwise_not(thresholded_image)"
   ]
  },
  {
   "cell_type": "code",
   "execution_count": 12,
   "id": "0445845c",
   "metadata": {},
   "outputs": [],
   "source": [
    "result = cv2.bitwise_and(resized_background,resized_background, mask = mask)\n"
   ]
  },
  {
   "cell_type": "code",
   "execution_count": 13,
   "id": "86ec3954",
   "metadata": {},
   "outputs": [],
   "source": [
    "thresholded_image = cv2.cvtColor(thresholded_image, cv2.COLOR_GRAY2BGR)"
   ]
  },
  {
   "cell_type": "code",
   "execution_count": 14,
   "id": "93527c22",
   "metadata": {},
   "outputs": [],
   "source": [
    "result += cv2.bitwise_and(thresholded_image, thresholded_image, mask=mask)"
   ]
  },
  {
   "cell_type": "code",
   "execution_count": 15,
   "id": "79685a93",
   "metadata": {},
   "outputs": [
    {
     "data": {
      "text/plain": [
       "-1"
      ]
     },
     "execution_count": 15,
     "metadata": {},
     "output_type": "execute_result"
    }
   ],
   "source": [
    "cv2.imshow('Result', result)\n",
    "cv2.waitKey(0)"
   ]
  },
  {
   "cell_type": "markdown",
   "id": "bec3aca5",
   "metadata": {},
   "source": [
    "### son birleştirme"
   ]
  },
  {
   "cell_type": "code",
   "execution_count": 16,
   "id": "102305e3",
   "metadata": {},
   "outputs": [],
   "source": [
    "img_full = cv2.add(result, merged_image)"
   ]
  },
  {
   "cell_type": "code",
   "execution_count": 17,
   "id": "106f1764",
   "metadata": {},
   "outputs": [
    {
     "data": {
      "text/plain": [
       "-1"
      ]
     },
     "execution_count": 17,
     "metadata": {},
     "output_type": "execute_result"
    }
   ],
   "source": [
    "cv2.imshow(\"Goruntu\", img_full)\n",
    "cv2.waitKey(0)"
   ]
  },
  {
   "cell_type": "code",
   "execution_count": null,
   "id": "d379bd87",
   "metadata": {},
   "outputs": [],
   "source": []
  }
 ],
 "metadata": {
  "kernelspec": {
   "display_name": "Python 3",
   "language": "python",
   "name": "python3"
  },
  "language_info": {
   "codemirror_mode": {
    "name": "ipython",
    "version": 3
   },
   "file_extension": ".py",
   "mimetype": "text/x-python",
   "name": "python",
   "nbconvert_exporter": "python",
   "pygments_lexer": "ipython3",
   "version": "3.8.8"
  }
 },
 "nbformat": 4,
 "nbformat_minor": 5
}
