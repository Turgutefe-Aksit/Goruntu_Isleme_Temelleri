{
 "cells": [
  {
   "cell_type": "markdown",
   "id": "3e1088a1",
   "metadata": {},
   "source": [
    "# Görüntü İşleme Ödevi Kernel 1\n",
    "\n",
    "* 200601005 Turgutefe Akşit"
   ]
  },
  {
   "cell_type": "code",
   "execution_count": 20,
   "id": "08bf6c83",
   "metadata": {},
   "outputs": [],
   "source": [
    "import cv2\n",
    "import numpy as np"
   ]
  },
  {
   "cell_type": "markdown",
   "id": "af985bf2",
   "metadata": {},
   "source": [
    "### Resim Okuma ve Kaydetme"
   ]
  },
  {
   "cell_type": "markdown",
   "id": "7c4a0058",
   "metadata": {},
   "source": [
    "Internet uzerinden istenen resmi kaydetmek icin :"
   ]
  },
  {
   "cell_type": "code",
   "execution_count": 21,
   "id": "0f83862c",
   "metadata": {},
   "outputs": [],
   "source": [
    "#url = 'https://example.com/image.jpg'\n",
    "#urllib.request.urlretrieve(url, 'image.jpg')"
   ]
  },
  {
   "cell_type": "markdown",
   "id": "e1d0bd9c",
   "metadata": {},
   "source": [
    "Kod üzerinden resim kaydetme ve okuma :"
   ]
  },
  {
   "cell_type": "code",
   "execution_count": 22,
   "id": "a2cfbe68",
   "metadata": {},
   "outputs": [],
   "source": [
    "img_bakircay = cv2.imread(\"./bakircay.jpg\")"
   ]
  },
  {
   "cell_type": "code",
   "execution_count": 24,
   "id": "84e5aa4c",
   "metadata": {},
   "outputs": [
    {
     "data": {
      "text/plain": [
       "-1"
      ]
     },
     "execution_count": 24,
     "metadata": {},
     "output_type": "execute_result"
    }
   ],
   "source": [
    "cv2.imwrite(\"./Bakircay.jpg\",img_bakircay)\n",
    "cv2.imshow(\"Goruntu\", img_bakircay)\n",
    "cv2.waitKey(0)\n"
   ]
  },
  {
   "cell_type": "markdown",
   "id": "2d19793e",
   "metadata": {},
   "source": [
    "### Boyut yazdirma"
   ]
  },
  {
   "cell_type": "code",
   "execution_count": 25,
   "id": "536af13a",
   "metadata": {},
   "outputs": [
    {
     "name": "stdout",
     "output_type": "stream",
     "text": [
      "(489, 768, 3)\n",
      "[[[ 92  44  43]\n",
      "  [ 92  44  43]\n",
      "  [ 92  44  43]\n",
      "  ...\n",
      "  [133  75  70]\n",
      "  [133  75  70]\n",
      "  [133  75  70]]\n",
      "\n",
      " [[ 92  44  43]\n",
      "  [ 92  44  43]\n",
      "  [ 92  44  43]\n",
      "  ...\n",
      "  [133  75  70]\n",
      "  [133  75  70]\n",
      "  [133  75  70]]\n",
      "\n",
      " [[ 92  44  43]\n",
      "  [ 92  44  43]\n",
      "  [ 92  44  43]\n",
      "  ...\n",
      "  [133  75  70]\n",
      "  [133  75  70]\n",
      "  [133  75  70]]\n",
      "\n",
      " ...\n",
      "\n",
      " [[ 87  92  91]\n",
      "  [ 87  92  91]\n",
      "  [ 87  92  91]\n",
      "  ...\n",
      "  [108 112 113]\n",
      "  [107 111 112]\n",
      "  [110 114 115]]\n",
      "\n",
      " [[ 89  94  93]\n",
      "  [ 89  94  93]\n",
      "  [ 88  93  92]\n",
      "  ...\n",
      "  [101 105 106]\n",
      "  [101 105 106]\n",
      "  [103 107 108]]\n",
      "\n",
      " [[ 88  93  92]\n",
      "  [ 88  93  92]\n",
      "  [ 88  93  92]\n",
      "  ...\n",
      "  [ 96 100 101]\n",
      "  [ 99 103 104]\n",
      "  [102 106 107]]]\n"
     ]
    }
   ],
   "source": [
    "print(img_bakircay.shape)\n",
    "print(img_bakircay)"
   ]
  },
  {
   "cell_type": "markdown",
   "id": "2bbc9d7b",
   "metadata": {},
   "source": [
    "### Random Resim Olusturma"
   ]
  },
  {
   "cell_type": "code",
   "execution_count": 26,
   "id": "0fb72205",
   "metadata": {},
   "outputs": [],
   "source": [
    "def RandomImg():\n",
    "    height = 400\n",
    "    width = 400\n",
    "    img_array = np.random.randint(0, 256, (height, width, 3), dtype=np.uint8)\n",
    "    return img_array"
   ]
  },
  {
   "cell_type": "code",
   "execution_count": 27,
   "id": "4e07185a",
   "metadata": {},
   "outputs": [
    {
     "data": {
      "text/plain": [
       "-1"
      ]
     },
     "execution_count": 27,
     "metadata": {},
     "output_type": "execute_result"
    }
   ],
   "source": [
    "img_random = RandomImg()\n",
    "cv2.imshow(\"Random_Image\",img_random)\n",
    "cv2.waitKey(0)"
   ]
  },
  {
   "cell_type": "markdown",
   "id": "c728ddd5",
   "metadata": {},
   "source": [
    "## Resimleri Birlestirme"
   ]
  },
  {
   "cell_type": "markdown",
   "id": "a8f6fdf5",
   "metadata": {},
   "source": [
    "Öncelikle boyutlarını esitlememiz gerekmekte."
   ]
  },
  {
   "cell_type": "code",
   "execution_count": 28,
   "id": "b1ad28db",
   "metadata": {},
   "outputs": [],
   "source": [
    "img_resized = cv2.resize(img_bakircay, (400, 400))"
   ]
  },
  {
   "cell_type": "code",
   "execution_count": 29,
   "id": "afe3793a",
   "metadata": {},
   "outputs": [
    {
     "data": {
      "text/plain": [
       "True"
      ]
     },
     "execution_count": 29,
     "metadata": {},
     "output_type": "execute_result"
    }
   ],
   "source": [
    "cv2.imwrite(\"./Resized_Bakircayy.jpg\",img_resized)"
   ]
  },
  {
   "cell_type": "code",
   "execution_count": 30,
   "id": "f9b6bc39",
   "metadata": {},
   "outputs": [
    {
     "data": {
      "text/plain": [
       "-1"
      ]
     },
     "execution_count": 30,
     "metadata": {},
     "output_type": "execute_result"
    }
   ],
   "source": [
    "cv2.imshow(\"Goruntu_Resized\", img_resized)\n",
    "cv2.waitKey(0)\n"
   ]
  },
  {
   "cell_type": "code",
   "execution_count": 31,
   "id": "e0e681e6",
   "metadata": {},
   "outputs": [
    {
     "name": "stdout",
     "output_type": "stream",
     "text": [
      "(400, 400, 3)\n"
     ]
    }
   ],
   "source": [
    "print(img_resized.shape)"
   ]
  },
  {
   "cell_type": "markdown",
   "id": "fd72843c",
   "metadata": {},
   "source": [
    " #### resimleri birlestirelim..."
   ]
  },
  {
   "cell_type": "markdown",
   "id": "80560238",
   "metadata": {},
   "source": [
    "* iç içe birleştirme"
   ]
  },
  {
   "cell_type": "code",
   "execution_count": 34,
   "id": "3c490c84",
   "metadata": {},
   "outputs": [],
   "source": [
    "bakircay_gray = cv2.imread(\"./Resized_Bakircayy.jpg\",0)\n",
    "\n",
    "bakircay_gray = bakircay_gray.astype('bool')\n"
   ]
  },
  {
   "cell_type": "code",
   "execution_count": 35,
   "id": "82797be2",
   "metadata": {},
   "outputs": [
    {
     "data": {
      "text/plain": [
       "-1"
      ]
     },
     "execution_count": 35,
     "metadata": {},
     "output_type": "execute_result"
    }
   ],
   "source": [
    "img_random[bakircay_gray] =img_resized[bakircay_gray]\n",
    "cv2.imshow(\"FinalImage\",img_random)\n",
    "cv2.imshow(\"img_resized\",img_resized)\n",
    "cv2.waitKey(0)"
   ]
  },
  {
   "cell_type": "markdown",
   "id": "f4fa7826",
   "metadata": {},
   "source": [
    "* Alt alta birlestirme:"
   ]
  },
  {
   "cell_type": "code",
   "execution_count": 36,
   "id": "d4060ed8",
   "metadata": {},
   "outputs": [],
   "source": [
    "img_combined_v = cv2.vconcat([img_random, img_resized])"
   ]
  },
  {
   "cell_type": "code",
   "execution_count": 37,
   "id": "9ea0ba88",
   "metadata": {},
   "outputs": [
    {
     "data": {
      "text/plain": [
       "-1"
      ]
     },
     "execution_count": 37,
     "metadata": {},
     "output_type": "execute_result"
    }
   ],
   "source": [
    "cv2.imshow(\"Goruntu\", img_combined_v)\n",
    "cv2.waitKey(0)"
   ]
  },
  {
   "cell_type": "markdown",
   "id": "44ea38ab",
   "metadata": {},
   "source": [
    "* Üst uste birlestirme:"
   ]
  },
  {
   "cell_type": "code",
   "execution_count": 38,
   "id": "17107f0c",
   "metadata": {},
   "outputs": [],
   "source": [
    "img_combined_h = cv2.hconcat([img_random, img_resized])"
   ]
  },
  {
   "cell_type": "code",
   "execution_count": 39,
   "id": "e64bbfac",
   "metadata": {},
   "outputs": [
    {
     "data": {
      "text/plain": [
       "-1"
      ]
     },
     "execution_count": 39,
     "metadata": {},
     "output_type": "execute_result"
    }
   ],
   "source": [
    "cv2.imshow(\"Goruntu\", img_combined_h)\n",
    "cv2.waitKey(0)"
   ]
  },
  {
   "cell_type": "code",
   "execution_count": null,
   "id": "b26db110",
   "metadata": {},
   "outputs": [],
   "source": []
  }
 ],
 "metadata": {
  "kernelspec": {
   "display_name": "Python 3",
   "language": "python",
   "name": "python3"
  },
  "language_info": {
   "codemirror_mode": {
    "name": "ipython",
    "version": 3
   },
   "file_extension": ".py",
   "mimetype": "text/x-python",
   "name": "python",
   "nbconvert_exporter": "python",
   "pygments_lexer": "ipython3",
   "version": "3.8.8"
  }
 },
 "nbformat": 4,
 "nbformat_minor": 5
}
