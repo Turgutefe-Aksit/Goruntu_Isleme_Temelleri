{
 "cells": [
  {
   "cell_type": "markdown",
   "id": "f3b9ff68",
   "metadata": {},
   "source": [
    "# Görüntü İşleme Ödevi Kernel 3\n",
    "\n",
    "* 200601005 Turgutefe Akşit"
   ]
  },
  {
   "cell_type": "code",
   "execution_count": 25,
   "id": "f3746f9b",
   "metadata": {},
   "outputs": [],
   "source": [
    "import cv2\n",
    "import numpy as np\n",
    "from matplotlib import pyplot as plt"
   ]
  },
  {
   "cell_type": "markdown",
   "id": "a3c09420",
   "metadata": {},
   "source": [
    "# Eşikleme"
   ]
  },
  {
   "cell_type": "code",
   "execution_count": 26,
   "id": "7d99ad26",
   "metadata": {},
   "outputs": [],
   "source": [
    "img_bakircay = cv2.imread(\"./bakircay.jpg\",0)"
   ]
  },
  {
   "cell_type": "code",
   "execution_count": 27,
   "id": "b13aba5e",
   "metadata": {},
   "outputs": [
    {
     "data": {
      "text/plain": [
       "-1"
      ]
     },
     "execution_count": 27,
     "metadata": {},
     "output_type": "execute_result"
    }
   ],
   "source": [
    "cv2.imshow(\"Goruntu\", img_bakircay)\n",
    "cv2.waitKey(0)"
   ]
  },
  {
   "cell_type": "markdown",
   "id": "927561c3",
   "metadata": {},
   "source": [
    "* Sabit Eşikleme (Fixed Thresholding) "
   ]
  },
  {
   "cell_type": "code",
   "execution_count": 28,
   "id": "bafed7d8",
   "metadata": {
    "scrolled": true
   },
   "outputs": [
    {
     "data": {
      "text/plain": [
       "-1"
      ]
     },
     "execution_count": 28,
     "metadata": {},
     "output_type": "execute_result"
    }
   ],
   "source": [
    "# Sabit eşikleme uygula\n",
    "threshold_value = 127  # Eşik değeri\n",
    "max_value = 255  # En yüksek piksel değeri\n",
    "_, thresholded = cv2.threshold(img_bakircay, threshold_value, max_value, cv2.THRESH_BINARY)\n",
    "\n",
    "cv2.imshow(\"Original Image\", img_bakircay)\n",
    "cv2.imshow(\"Thresholded Image\", thresholded)\n",
    "cv2.waitKey(0)"
   ]
  },
  {
   "cell_type": "markdown",
   "id": "51e7ed9e",
   "metadata": {},
   "source": [
    "* Otomatik Eşikleme (Adaptive Thresholding)"
   ]
  },
  {
   "cell_type": "code",
   "execution_count": 29,
   "id": "2dfa440e",
   "metadata": {},
   "outputs": [
    {
     "data": {
      "text/plain": [
       "-1"
      ]
     },
     "execution_count": 29,
     "metadata": {},
     "output_type": "execute_result"
    }
   ],
   "source": [
    "max_value = 255  # En yüksek piksel değeri\n",
    "block_size = 11  # Komşuluk blok boyutu\n",
    "C = 2  # Sabit çıkarıcı değeri\n",
    "thresholded = cv2.adaptiveThreshold(img_bakircay, max_value, cv2.ADAPTIVE_THRESH_MEAN_C, cv2.THRESH_BINARY, block_size, C)\n",
    "\n",
    "cv2.imshow(\"Original Image\", img_bakircay)\n",
    "cv2.imshow(\"Thresholded Image\", thresholded)\n",
    "cv2.waitKey(0)"
   ]
  },
  {
   "cell_type": "markdown",
   "id": "0ac9f7eb",
   "metadata": {},
   "source": [
    "* Otsu Eşikleme (Otsu's Thresholding)"
   ]
  },
  {
   "cell_type": "code",
   "execution_count": 30,
   "id": "2ca97d52",
   "metadata": {},
   "outputs": [
    {
     "data": {
      "text/plain": [
       "-1"
      ]
     },
     "execution_count": 30,
     "metadata": {},
     "output_type": "execute_result"
    }
   ],
   "source": [
    "#arkaplan ve ön planı ayırmak için bir eşikleme yapmaktadır.\n",
    "max_value = 255  \n",
    "_, thresholded = cv2.threshold(img_bakircay, 0, max_value, cv2.THRESH_BINARY + cv2.THRESH_OTSU)\n",
    "\n",
    "cv2.imshow(\"Original Image\", img_bakircay)\n",
    "cv2.imshow(\"Thresholded Image\", thresholded)\n",
    "cv2.waitKey(0)"
   ]
  },
  {
   "cell_type": "markdown",
   "id": "2ac25fe4",
   "metadata": {},
   "source": [
    "* Yerel Eşikleme (Local Thresholding)"
   ]
  },
  {
   "cell_type": "code",
   "execution_count": 32,
   "id": "5945db98",
   "metadata": {},
   "outputs": [
    {
     "data": {
      "text/plain": [
       "-1"
      ]
     },
     "execution_count": 32,
     "metadata": {},
     "output_type": "execute_result"
    }
   ],
   "source": [
    "#pikselin etrafındaki piksellere göre eşikleme\n",
    "max_value = 255  # En yüksek piksel değeri\n",
    "block_size = 11  # Blok boyutu\n",
    "c = 2  # Sabit çıkarıcı\n",
    "thresholded = cv2.adaptiveThreshold(img_bakircay, max_value, cv2.ADAPTIVE_THRESH_GAUSSIAN_C, cv2.THRESH_BINARY, block_size, c)\n",
    "\n",
    "cv2.imshow(\"Original Image\", img_bakircay)\n",
    "cv2.imshow(\"Thresholded Image\", thresholded)\n",
    "cv2.waitKey(0)"
   ]
  },
  {
   "cell_type": "markdown",
   "id": "25b8dbfd",
   "metadata": {},
   "source": [
    "# Bulanıklaştırma"
   ]
  },
  {
   "cell_type": "markdown",
   "id": "48513fa8",
   "metadata": {},
   "source": [
    "* Ortalama Bulanıklaştırma (Mean Blurring)"
   ]
  },
  {
   "cell_type": "code",
   "execution_count": 34,
   "id": "e2040c51",
   "metadata": {},
   "outputs": [],
   "source": [
    "img_bakircay = cv2.imread(\"./bakircay.jpg\")"
   ]
  },
  {
   "cell_type": "code",
   "execution_count": 35,
   "id": "135c8864",
   "metadata": {},
   "outputs": [
    {
     "data": {
      "text/plain": [
       "-1"
      ]
     },
     "execution_count": 35,
     "metadata": {},
     "output_type": "execute_result"
    }
   ],
   "source": [
    "# Boyutu (5,5) olan bir ortalama bulanıklaştırma filtresi uygula\n",
    "blurred = cv2.blur(img_bakircay, (5, 5))\n",
    "\n",
    "cv2.imshow(\"Original Image\", img_bakircay)\n",
    "cv2.imshow(\"Blurred Image\", blurred)\n",
    "cv2.waitKey(0)"
   ]
  },
  {
   "cell_type": "markdown",
   "id": "1585989b",
   "metadata": {},
   "source": [
    "* Gauss Bulanıklaştırma (Gaussian Blurring) "
   ]
  },
  {
   "cell_type": "code",
   "execution_count": 36,
   "id": "e1431bb0",
   "metadata": {},
   "outputs": [
    {
     "data": {
      "text/plain": [
       "-1"
      ]
     },
     "execution_count": 36,
     "metadata": {},
     "output_type": "execute_result"
    }
   ],
   "source": [
    "# Standart sapma\n",
    "blurred = cv2.GaussianBlur(img_bakircay, (5, 5), 3)\n",
    "\n",
    "cv2.imshow(\"Original Image\", img_bakircay)\n",
    "cv2.imshow(\"Blurred Image\", blurred)\n",
    "cv2.waitKey(0)"
   ]
  },
  {
   "cell_type": "markdown",
   "id": "1f734b8e",
   "metadata": {},
   "source": [
    "* Medyan Bulanıklaştırma (Median Blurring)"
   ]
  },
  {
   "cell_type": "code",
   "execution_count": 40,
   "id": "544b3b48",
   "metadata": {},
   "outputs": [
    {
     "data": {
      "text/plain": [
       "-1"
      ]
     },
     "execution_count": 40,
     "metadata": {},
     "output_type": "execute_result"
    }
   ],
   "source": [
    "blurred = cv2.medianBlur(img_bakircay, 5)\n",
    "\n",
    "cv2.imshow(\"Original Image\", img_bakircay)\n",
    "cv2.imshow(\"Blurred Image\", blurred)\n",
    "cv2.waitKey(0)"
   ]
  },
  {
   "cell_type": "markdown",
   "id": "9cab5459",
   "metadata": {},
   "source": [
    "* Bilateral Bulanıklaştırma (Bilateral Blurring)"
   ]
  },
  {
   "cell_type": "code",
   "execution_count": 41,
   "id": "b92d7910",
   "metadata": {},
   "outputs": [
    {
     "data": {
      "text/plain": [
       "-1"
      ]
     },
     "execution_count": 41,
     "metadata": {},
     "output_type": "execute_result"
    }
   ],
   "source": [
    "#guassiana benzer. uzaklığın yanında renk farklılıkları da hesaba katılır.\n",
    "blurred = cv2.bilateralFilter(img_bakircay, 9, 75, 75)\n",
    "\n",
    "cv2.imshow(\"Original Image\", img_bakircay)\n",
    "cv2.imshow(\"Blurred Image\", blurred)\n",
    "cv2.waitKey(0)"
   ]
  },
  {
   "cell_type": "code",
   "execution_count": null,
   "id": "9c8d819a",
   "metadata": {},
   "outputs": [],
   "source": []
  }
 ],
 "metadata": {
  "kernelspec": {
   "display_name": "Python 3",
   "language": "python",
   "name": "python3"
  },
  "language_info": {
   "codemirror_mode": {
    "name": "ipython",
    "version": 3
   },
   "file_extension": ".py",
   "mimetype": "text/x-python",
   "name": "python",
   "nbconvert_exporter": "python",
   "pygments_lexer": "ipython3",
   "version": "3.8.8"
  }
 },
 "nbformat": 4,
 "nbformat_minor": 5
}
